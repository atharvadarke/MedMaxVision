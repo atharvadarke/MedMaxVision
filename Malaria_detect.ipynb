{
 "cells": [
  {
   "cell_type": "code",
   "execution_count": 9,
   "id": "db6e5896-22b7-4461-a3d5-2cd037a3dd71",
   "metadata": {},
   "outputs": [
    {
     "name": "stdout",
     "output_type": "stream",
     "text": [
      "Requirement already satisfied: tensorflow-datasets in c:\\anaconda\\lib\\site-packages (4.9.9)\n",
      "Requirement already satisfied: absl-py in c:\\anaconda\\lib\\site-packages (from tensorflow-datasets) (2.1.0)\n",
      "Requirement already satisfied: dm-tree in c:\\anaconda\\lib\\site-packages (from tensorflow-datasets) (0.1.9)\n",
      "Requirement already satisfied: etils>=1.9.1 in c:\\anaconda\\lib\\site-packages (from etils[edc,enp,epath,epy,etree]>=1.9.1; python_version >= \"3.11\"->tensorflow-datasets) (1.12.2)\n",
      "Requirement already satisfied: immutabledict in c:\\anaconda\\lib\\site-packages (from tensorflow-datasets) (4.2.1)\n",
      "Requirement already satisfied: numpy in c:\\anaconda\\lib\\site-packages (from tensorflow-datasets) (1.26.4)\n",
      "Requirement already satisfied: promise in c:\\anaconda\\lib\\site-packages (from tensorflow-datasets) (2.3)\n",
      "Requirement already satisfied: protobuf>=3.20 in c:\\anaconda\\lib\\site-packages (from tensorflow-datasets) (4.25.4)\n",
      "Requirement already satisfied: psutil in c:\\users\\atharva darke\\appdata\\roaming\\python\\python312\\site-packages (from tensorflow-datasets) (6.0.0)\n",
      "Requirement already satisfied: pyarrow in c:\\anaconda\\lib\\site-packages (from tensorflow-datasets) (14.0.2)\n",
      "Requirement already satisfied: requests>=2.19.0 in c:\\anaconda\\lib\\site-packages (from tensorflow-datasets) (2.32.2)\n",
      "Requirement already satisfied: simple_parsing in c:\\anaconda\\lib\\site-packages (from tensorflow-datasets) (0.1.7)\n",
      "Requirement already satisfied: tensorflow-metadata in c:\\anaconda\\lib\\site-packages (from tensorflow-datasets) (1.17.2)\n",
      "Requirement already satisfied: termcolor in c:\\anaconda\\lib\\site-packages (from tensorflow-datasets) (2.4.0)\n",
      "Requirement already satisfied: toml in c:\\anaconda\\lib\\site-packages (from tensorflow-datasets) (0.10.2)\n",
      "Requirement already satisfied: tqdm in c:\\anaconda\\lib\\site-packages (from tensorflow-datasets) (4.66.4)\n",
      "Requirement already satisfied: wrapt in c:\\anaconda\\lib\\site-packages (from tensorflow-datasets) (1.14.1)\n",
      "Requirement already satisfied: einops in c:\\anaconda\\lib\\site-packages (from etils[edc,enp,epath,epy,etree]>=1.9.1; python_version >= \"3.11\"->tensorflow-datasets) (0.8.1)\n",
      "Requirement already satisfied: fsspec in c:\\anaconda\\lib\\site-packages (from etils[edc,enp,epath,epy,etree]>=1.9.1; python_version >= \"3.11\"->tensorflow-datasets) (2024.3.1)\n",
      "Requirement already satisfied: importlib_resources in c:\\anaconda\\lib\\site-packages (from etils[edc,enp,epath,epy,etree]>=1.9.1; python_version >= \"3.11\"->tensorflow-datasets) (6.5.2)\n",
      "Requirement already satisfied: typing_extensions in c:\\anaconda\\lib\\site-packages (from etils[edc,enp,epath,epy,etree]>=1.9.1; python_version >= \"3.11\"->tensorflow-datasets) (4.11.0)\n",
      "Requirement already satisfied: zipp in c:\\anaconda\\lib\\site-packages (from etils[edc,enp,epath,epy,etree]>=1.9.1; python_version >= \"3.11\"->tensorflow-datasets) (3.17.0)\n",
      "Requirement already satisfied: charset-normalizer<4,>=2 in c:\\anaconda\\lib\\site-packages (from requests>=2.19.0->tensorflow-datasets) (2.0.4)\n",
      "Requirement already satisfied: idna<4,>=2.5 in c:\\anaconda\\lib\\site-packages (from requests>=2.19.0->tensorflow-datasets) (3.7)\n",
      "Requirement already satisfied: urllib3<3,>=1.21.1 in c:\\anaconda\\lib\\site-packages (from requests>=2.19.0->tensorflow-datasets) (2.2.2)\n",
      "Requirement already satisfied: certifi>=2017.4.17 in c:\\anaconda\\lib\\site-packages (from requests>=2.19.0->tensorflow-datasets) (2024.6.2)\n",
      "Requirement already satisfied: attrs>=18.2.0 in c:\\anaconda\\lib\\site-packages (from dm-tree->tensorflow-datasets) (23.1.0)\n",
      "Requirement already satisfied: six in c:\\anaconda\\lib\\site-packages (from promise->tensorflow-datasets) (1.16.0)\n",
      "Requirement already satisfied: docstring-parser<1.0,>=0.15 in c:\\anaconda\\lib\\site-packages (from simple_parsing->tensorflow-datasets) (0.16)\n",
      "Requirement already satisfied: googleapis-common-protos<2,>=1.56.4 in c:\\anaconda\\lib\\site-packages (from tensorflow-metadata->tensorflow-datasets) (1.70.0)\n",
      "Requirement already satisfied: colorama in c:\\anaconda\\lib\\site-packages (from tqdm->tensorflow-datasets) (0.4.6)\n",
      "Note: you may need to restart the kernel to use updated packages.\n"
     ]
    }
   ],
   "source": [
    "pip install tensorflow-datasets "
   ]
  },
  {
   "cell_type": "code",
   "execution_count": 10,
   "id": "b42b7bf7-37af-40c1-9629-75d84109fb44",
   "metadata": {},
   "outputs": [],
   "source": [
    "import numpy as np\n",
    "import pandas as pd\n",
    "import tensorflow as tf\n",
    "import matplotlib.pyplot as plt\n",
    "import tensorflow_datasets as tfds"
   ]
  },
  {
   "cell_type": "code",
   "execution_count": null,
   "id": "a16f45b0-593e-4892-a218-173f82c5be18",
   "metadata": {},
   "outputs": [],
   "source": []
  }
 ],
 "metadata": {
  "kernelspec": {
   "display_name": "Python 3 (ipykernel)",
   "language": "python",
   "name": "python3"
  },
  "language_info": {
   "codemirror_mode": {
    "name": "ipython",
    "version": 3
   },
   "file_extension": ".py",
   "mimetype": "text/x-python",
   "name": "python",
   "nbconvert_exporter": "python",
   "pygments_lexer": "ipython3",
   "version": "3.12.4"
  }
 },
 "nbformat": 4,
 "nbformat_minor": 5
}
