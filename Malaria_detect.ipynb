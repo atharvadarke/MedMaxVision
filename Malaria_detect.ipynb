{
 "cells": [
  {
   "cell_type": "code",
   "execution_count": 9,
   "id": "db6e5896-22b7-4461-a3d5-2cd037a3dd71",
   "metadata": {},
   "outputs": [
    {
     "name": "stdout",
     "output_type": "stream",
     "text": [
      "Requirement already satisfied: tensorflow-datasets in c:\\anaconda\\lib\\site-packages (4.9.9)\n",
      "Requirement already satisfied: absl-py in c:\\anaconda\\lib\\site-packages (from tensorflow-datasets) (2.1.0)\n",
      "Requirement already satisfied: dm-tree in c:\\anaconda\\lib\\site-packages (from tensorflow-datasets) (0.1.9)\n",
      "Requirement already satisfied: etils>=1.9.1 in c:\\anaconda\\lib\\site-packages (from etils[edc,enp,epath,epy,etree]>=1.9.1; python_version >= \"3.11\"->tensorflow-datasets) (1.12.2)\n",
      "Requirement already satisfied: immutabledict in c:\\anaconda\\lib\\site-packages (from tensorflow-datasets) (4.2.1)\n",
      "Requirement already satisfied: numpy in c:\\anaconda\\lib\\site-packages (from tensorflow-datasets) (1.26.4)\n",
      "Requirement already satisfied: promise in c:\\anaconda\\lib\\site-packages (from tensorflow-datasets) (2.3)\n",
      "Requirement already satisfied: protobuf>=3.20 in c:\\anaconda\\lib\\site-packages (from tensorflow-datasets) (4.25.4)\n",
      "Requirement already satisfied: psutil in c:\\users\\atharva darke\\appdata\\roaming\\python\\python312\\site-packages (from tensorflow-datasets) (6.0.0)\n",
      "Requirement already satisfied: pyarrow in c:\\anaconda\\lib\\site-packages (from tensorflow-datasets) (14.0.2)\n",
      "Requirement already satisfied: requests>=2.19.0 in c:\\anaconda\\lib\\site-packages (from tensorflow-datasets) (2.32.2)\n",
      "Requirement already satisfied: simple_parsing in c:\\anaconda\\lib\\site-packages (from tensorflow-datasets) (0.1.7)\n",
      "Requirement already satisfied: tensorflow-metadata in c:\\anaconda\\lib\\site-packages (from tensorflow-datasets) (1.17.2)\n",
      "Requirement already satisfied: termcolor in c:\\anaconda\\lib\\site-packages (from tensorflow-datasets) (2.4.0)\n",
      "Requirement already satisfied: toml in c:\\anaconda\\lib\\site-packages (from tensorflow-datasets) (0.10.2)\n",
      "Requirement already satisfied: tqdm in c:\\anaconda\\lib\\site-packages (from tensorflow-datasets) (4.66.4)\n",
      "Requirement already satisfied: wrapt in c:\\anaconda\\lib\\site-packages (from tensorflow-datasets) (1.14.1)\n",
      "Requirement already satisfied: einops in c:\\anaconda\\lib\\site-packages (from etils[edc,enp,epath,epy,etree]>=1.9.1; python_version >= \"3.11\"->tensorflow-datasets) (0.8.1)\n",
      "Requirement already satisfied: fsspec in c:\\anaconda\\lib\\site-packages (from etils[edc,enp,epath,epy,etree]>=1.9.1; python_version >= \"3.11\"->tensorflow-datasets) (2024.3.1)\n",
      "Requirement already satisfied: importlib_resources in c:\\anaconda\\lib\\site-packages (from etils[edc,enp,epath,epy,etree]>=1.9.1; python_version >= \"3.11\"->tensorflow-datasets) (6.5.2)\n",
      "Requirement already satisfied: typing_extensions in c:\\anaconda\\lib\\site-packages (from etils[edc,enp,epath,epy,etree]>=1.9.1; python_version >= \"3.11\"->tensorflow-datasets) (4.11.0)\n",
      "Requirement already satisfied: zipp in c:\\anaconda\\lib\\site-packages (from etils[edc,enp,epath,epy,etree]>=1.9.1; python_version >= \"3.11\"->tensorflow-datasets) (3.17.0)\n",
      "Requirement already satisfied: charset-normalizer<4,>=2 in c:\\anaconda\\lib\\site-packages (from requests>=2.19.0->tensorflow-datasets) (2.0.4)\n",
      "Requirement already satisfied: idna<4,>=2.5 in c:\\anaconda\\lib\\site-packages (from requests>=2.19.0->tensorflow-datasets) (3.7)\n",
      "Requirement already satisfied: urllib3<3,>=1.21.1 in c:\\anaconda\\lib\\site-packages (from requests>=2.19.0->tensorflow-datasets) (2.2.2)\n",
      "Requirement already satisfied: certifi>=2017.4.17 in c:\\anaconda\\lib\\site-packages (from requests>=2.19.0->tensorflow-datasets) (2024.6.2)\n",
      "Requirement already satisfied: attrs>=18.2.0 in c:\\anaconda\\lib\\site-packages (from dm-tree->tensorflow-datasets) (23.1.0)\n",
      "Requirement already satisfied: six in c:\\anaconda\\lib\\site-packages (from promise->tensorflow-datasets) (1.16.0)\n",
      "Requirement already satisfied: docstring-parser<1.0,>=0.15 in c:\\anaconda\\lib\\site-packages (from simple_parsing->tensorflow-datasets) (0.16)\n",
      "Requirement already satisfied: googleapis-common-protos<2,>=1.56.4 in c:\\anaconda\\lib\\site-packages (from tensorflow-metadata->tensorflow-datasets) (1.70.0)\n",
      "Requirement already satisfied: colorama in c:\\anaconda\\lib\\site-packages (from tqdm->tensorflow-datasets) (0.4.6)\n",
      "Note: you may need to restart the kernel to use updated packages.\n"
     ]
    }
   ],
   "source": [
    "pip install tensorflow-datasets "
   ]
  },
  {
   "cell_type": "code",
   "execution_count": 4,
   "id": "b42b7bf7-37af-40c1-9629-75d84109fb44",
   "metadata": {},
   "outputs": [],
   "source": [
    "import numpy as np\n",
    "import pandas as pd\n",
    "import tensorflow as tf\n",
    "import matplotlib.pyplot as plt\n",
    "import tensorflow_datasets as tfds"
   ]
  },
  {
   "cell_type": "code",
   "execution_count": null,
   "id": "a16f45b0-593e-4892-a218-173f82c5be18",
   "metadata": {},
   "outputs": [],
   "source": [
    "# loading the dataset\n",
    "data, data_info = tfds.load('malaria',as_supervised=True)"
   ]
  },
  {
   "cell_type": "code",
   "execution_count": null,
   "id": "da5f94b9-d600-40b9-a739-b96439c643bd",
   "metadata": {},
   "outputs": [],
   "source": [
    "data_info"
   ]
  },
  {
   "cell_type": "code",
   "execution_count": 27,
   "id": "3dc72a22-e6db-40e3-b65c-14990eb9d3e0",
   "metadata": {},
   "outputs": [],
   "source": [
    "TRAIN_RATIO = 0.6\n",
    "TEST_RATIO = 0.2\n",
    "VAL_RATIO = 0.2\n",
    "\n",
    "dataset = tf.data.Dataset.range(10)\n",
    "DATA_SIZE = len(dataset)\n"
   ]
  },
  {
   "cell_type": "code",
   "execution_count": 32,
   "id": "1b27cc00-2a6d-4560-b27a-ab8de28b900a",
   "metadata": {},
   "outputs": [],
   "source": [
    "def split(DATA_SIZE,TRAIN_RATIO,TEST_RATIO,VAL_RATIO):\n",
    "    train = dataset.take(int(TRAIN_RATIO*DATA_SIZE))\n",
    "    test = dataset.skip(int(TRAIN_RATIO*DATA_SIZE)).take(int(TEST_RATIO*DATA_SIZE))\n",
    "    valid = dataset.skip(int(TRAIN_RATIO*DATA_SIZE)).skip(int(VAL_RATIO*DATA_SIZE))\n",
    "    return train,test,valid"
   ]
  },
  {
   "cell_type": "code",
   "execution_count": 28,
   "id": "c9f1e290-2b9a-4a1c-94b3-0dc193f57dd2",
   "metadata": {},
   "outputs": [
    {
     "data": {
      "text/plain": [
       "10"
      ]
     },
     "execution_count": 28,
     "metadata": {},
     "output_type": "execute_result"
    }
   ],
   "source": [
    "DATA_SIZE"
   ]
  },
  {
   "cell_type": "code",
   "execution_count": 29,
   "id": "8a9ebd3e-9943-405a-8b0f-467ee4c00918",
   "metadata": {},
   "outputs": [
    {
     "data": {
      "text/plain": [
       "[0, 1, 2, 3, 4, 5]"
      ]
     },
     "execution_count": 29,
     "metadata": {},
     "output_type": "execute_result"
    }
   ],
   "source": [
    "list(train.as_numpy_iterator())"
   ]
  },
  {
   "cell_type": "code",
   "execution_count": 30,
   "id": "55e2eda5-f914-4c7e-8f5d-54a7c4ec812e",
   "metadata": {},
   "outputs": [
    {
     "data": {
      "text/plain": [
       "[6, 7]"
      ]
     },
     "execution_count": 30,
     "metadata": {},
     "output_type": "execute_result"
    }
   ],
   "source": [
    "list(test.as_numpy_iterator())"
   ]
  },
  {
   "cell_type": "code",
   "execution_count": 31,
   "id": "5b4d5087-7dae-4788-8e85-ba7dcb9f6f28",
   "metadata": {},
   "outputs": [
    {
     "data": {
      "text/plain": [
       "[8, 9]"
      ]
     },
     "execution_count": 31,
     "metadata": {},
     "output_type": "execute_result"
    }
   ],
   "source": [
    "list(valid.as_numpy_iterator())"
   ]
  },
  {
   "cell_type": "code",
   "execution_count": null,
   "id": "fc975c19-534a-456b-aa10-47586a0d396d",
   "metadata": {},
   "outputs": [],
   "source": []
  }
 ],
 "metadata": {
  "kernelspec": {
   "display_name": "Python 3 (ipykernel)",
   "language": "python",
   "name": "python3"
  },
  "language_info": {
   "codemirror_mode": {
    "name": "ipython",
    "version": 3
   },
   "file_extension": ".py",
   "mimetype": "text/x-python",
   "name": "python",
   "nbconvert_exporter": "python",
   "pygments_lexer": "ipython3",
   "version": "3.12.4"
  }
 },
 "nbformat": 4,
 "nbformat_minor": 5
}
