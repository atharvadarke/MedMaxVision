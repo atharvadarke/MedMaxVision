{
 "cells": [
  {
   "cell_type": "code",
   "execution_count": 9,
   "id": "db6e5896-22b7-4461-a3d5-2cd037a3dd71",
   "metadata": {},
   "outputs": [
    {
     "name": "stdout",
     "output_type": "stream",
     "text": [
      "Requirement already satisfied: tensorflow-datasets in c:\\anaconda\\lib\\site-packages (4.9.9)\n",
      "Requirement already satisfied: absl-py in c:\\anaconda\\lib\\site-packages (from tensorflow-datasets) (2.1.0)\n",
      "Requirement already satisfied: dm-tree in c:\\anaconda\\lib\\site-packages (from tensorflow-datasets) (0.1.9)\n",
      "Requirement already satisfied: etils>=1.9.1 in c:\\anaconda\\lib\\site-packages (from etils[edc,enp,epath,epy,etree]>=1.9.1; python_version >= \"3.11\"->tensorflow-datasets) (1.12.2)\n",
      "Requirement already satisfied: immutabledict in c:\\anaconda\\lib\\site-packages (from tensorflow-datasets) (4.2.1)\n",
      "Requirement already satisfied: numpy in c:\\anaconda\\lib\\site-packages (from tensorflow-datasets) (1.26.4)\n",
      "Requirement already satisfied: promise in c:\\anaconda\\lib\\site-packages (from tensorflow-datasets) (2.3)\n",
      "Requirement already satisfied: protobuf>=3.20 in c:\\anaconda\\lib\\site-packages (from tensorflow-datasets) (4.25.4)\n",
      "Requirement already satisfied: psutil in c:\\users\\atharva darke\\appdata\\roaming\\python\\python312\\site-packages (from tensorflow-datasets) (6.0.0)\n",
      "Requirement already satisfied: pyarrow in c:\\anaconda\\lib\\site-packages (from tensorflow-datasets) (14.0.2)\n",
      "Requirement already satisfied: requests>=2.19.0 in c:\\anaconda\\lib\\site-packages (from tensorflow-datasets) (2.32.2)\n",
      "Requirement already satisfied: simple_parsing in c:\\anaconda\\lib\\site-packages (from tensorflow-datasets) (0.1.7)\n",
      "Requirement already satisfied: tensorflow-metadata in c:\\anaconda\\lib\\site-packages (from tensorflow-datasets) (1.17.2)\n",
      "Requirement already satisfied: termcolor in c:\\anaconda\\lib\\site-packages (from tensorflow-datasets) (2.4.0)\n",
      "Requirement already satisfied: toml in c:\\anaconda\\lib\\site-packages (from tensorflow-datasets) (0.10.2)\n",
      "Requirement already satisfied: tqdm in c:\\anaconda\\lib\\site-packages (from tensorflow-datasets) (4.66.4)\n",
      "Requirement already satisfied: wrapt in c:\\anaconda\\lib\\site-packages (from tensorflow-datasets) (1.14.1)\n",
      "Requirement already satisfied: einops in c:\\anaconda\\lib\\site-packages (from etils[edc,enp,epath,epy,etree]>=1.9.1; python_version >= \"3.11\"->tensorflow-datasets) (0.8.1)\n",
      "Requirement already satisfied: fsspec in c:\\anaconda\\lib\\site-packages (from etils[edc,enp,epath,epy,etree]>=1.9.1; python_version >= \"3.11\"->tensorflow-datasets) (2024.3.1)\n",
      "Requirement already satisfied: importlib_resources in c:\\anaconda\\lib\\site-packages (from etils[edc,enp,epath,epy,etree]>=1.9.1; python_version >= \"3.11\"->tensorflow-datasets) (6.5.2)\n",
      "Requirement already satisfied: typing_extensions in c:\\anaconda\\lib\\site-packages (from etils[edc,enp,epath,epy,etree]>=1.9.1; python_version >= \"3.11\"->tensorflow-datasets) (4.11.0)\n",
      "Requirement already satisfied: zipp in c:\\anaconda\\lib\\site-packages (from etils[edc,enp,epath,epy,etree]>=1.9.1; python_version >= \"3.11\"->tensorflow-datasets) (3.17.0)\n",
      "Requirement already satisfied: charset-normalizer<4,>=2 in c:\\anaconda\\lib\\site-packages (from requests>=2.19.0->tensorflow-datasets) (2.0.4)\n",
      "Requirement already satisfied: idna<4,>=2.5 in c:\\anaconda\\lib\\site-packages (from requests>=2.19.0->tensorflow-datasets) (3.7)\n",
      "Requirement already satisfied: urllib3<3,>=1.21.1 in c:\\anaconda\\lib\\site-packages (from requests>=2.19.0->tensorflow-datasets) (2.2.2)\n",
      "Requirement already satisfied: certifi>=2017.4.17 in c:\\anaconda\\lib\\site-packages (from requests>=2.19.0->tensorflow-datasets) (2024.6.2)\n",
      "Requirement already satisfied: attrs>=18.2.0 in c:\\anaconda\\lib\\site-packages (from dm-tree->tensorflow-datasets) (23.1.0)\n",
      "Requirement already satisfied: six in c:\\anaconda\\lib\\site-packages (from promise->tensorflow-datasets) (1.16.0)\n",
      "Requirement already satisfied: docstring-parser<1.0,>=0.15 in c:\\anaconda\\lib\\site-packages (from simple_parsing->tensorflow-datasets) (0.16)\n",
      "Requirement already satisfied: googleapis-common-protos<2,>=1.56.4 in c:\\anaconda\\lib\\site-packages (from tensorflow-metadata->tensorflow-datasets) (1.70.0)\n",
      "Requirement already satisfied: colorama in c:\\anaconda\\lib\\site-packages (from tqdm->tensorflow-datasets) (0.4.6)\n",
      "Note: you may need to restart the kernel to use updated packages.\n"
     ]
    }
   ],
   "source": [
    "pip install tensorflow-datasets "
   ]
  },
  {
   "cell_type": "code",
   "execution_count": 22,
   "id": "b42b7bf7-37af-40c1-9629-75d84109fb44",
   "metadata": {},
   "outputs": [],
   "source": [
    "import numpy as np\n",
    "import pandas as pd\n",
    "import tensorflow as tf\n",
    "import matplotlib.pyplot as plt\n",
    "import tensorflow_datasets as tfds\n",
    "from tensorflow import keras\n",
    "from tensorflow.keras import layers, Sequential\n",
    "from tensorflow.keras.layers import Conv2D, MaxPool2D, Flatten, InputLayer\n"
   ]
  },
  {
   "cell_type": "code",
   "execution_count": 10,
   "id": "a16f45b0-593e-4892-a218-173f82c5be18",
   "metadata": {},
   "outputs": [],
   "source": [
    "# loading the dataset\n",
    "data, data_info = tfds.load('malaria',as_supervised=True,split='train',with_info=True,shuffle_files=True)"
   ]
  },
  {
   "cell_type": "code",
   "execution_count": 32,
   "id": "da5f94b9-d600-40b9-a739-b96439c643bd",
   "metadata": {},
   "outputs": [
    {
     "data": {
      "text/plain": [
       "tfds.core.DatasetInfo(\n",
       "    name='malaria',\n",
       "    full_name='malaria/1.0.0',\n",
       "    description=\"\"\"\n",
       "    The Malaria dataset contains a total of 27,558 cell images with equal instances\n",
       "    of parasitized and uninfected cells from the thin blood smear slide images of\n",
       "    segmented cells.\n",
       "    \"\"\",\n",
       "    homepage='https://lhncbc.nlm.nih.gov/publication/pub9932',\n",
       "    data_dir='C:\\\\Users\\\\Atharva Darke\\\\tensorflow_datasets\\\\malaria\\\\1.0.0',\n",
       "    file_format=tfrecord,\n",
       "    download_size=337.08 MiB,\n",
       "    dataset_size=317.62 MiB,\n",
       "    features=FeaturesDict({\n",
       "        'image': Image(shape=(None, None, 3), dtype=uint8),\n",
       "        'label': ClassLabel(shape=(), dtype=int64, num_classes=2),\n",
       "    }),\n",
       "    supervised_keys=('image', 'label'),\n",
       "    disable_shuffling=False,\n",
       "    nondeterministic_order=False,\n",
       "    splits={\n",
       "        'train': <SplitInfo num_examples=27558, num_shards=4>,\n",
       "    },\n",
       "    citation=\"\"\"@article{rajaraman2018pre,\n",
       "      title={Pre-trained convolutional neural networks as feature extractors toward\n",
       "      improved malaria parasite detection in thin blood smear images},\n",
       "      author={Rajaraman, Sivaramakrishnan and Antani, Sameer K and Poostchi, Mahdieh\n",
       "      and Silamut, Kamolrat and Hossain, Md A and Maude, Richard J and Jaeger,\n",
       "      Stefan and Thoma, George R},\n",
       "      journal={PeerJ},\n",
       "      volume={6},\n",
       "      pages={e4568},\n",
       "      year={2018},\n",
       "      publisher={PeerJ Inc.}\n",
       "    }\"\"\",\n",
       ")"
      ]
     },
     "execution_count": 32,
     "metadata": {},
     "output_type": "execute_result"
    }
   ],
   "source": [
    "data_info"
   ]
  },
  {
   "cell_type": "code",
   "execution_count": 12,
   "id": "13d9d7c6-4926-4074-9192-d09abb46dd06",
   "metadata": {},
   "outputs": [
    {
     "data": {
      "text/plain": [
       "[(array([[[0, 0, 0],\n",
       "          [0, 0, 0],\n",
       "          [0, 0, 0],\n",
       "          ...,\n",
       "          [0, 0, 0],\n",
       "          [0, 0, 0],\n",
       "          [0, 0, 0]],\n",
       "  \n",
       "         [[0, 0, 0],\n",
       "          [0, 0, 0],\n",
       "          [0, 0, 0],\n",
       "          ...,\n",
       "          [0, 0, 0],\n",
       "          [0, 0, 0],\n",
       "          [0, 0, 0]],\n",
       "  \n",
       "         [[0, 0, 0],\n",
       "          [0, 0, 0],\n",
       "          [0, 0, 0],\n",
       "          ...,\n",
       "          [0, 0, 0],\n",
       "          [0, 0, 0],\n",
       "          [0, 0, 0]],\n",
       "  \n",
       "         ...,\n",
       "  \n",
       "         [[0, 0, 0],\n",
       "          [0, 0, 0],\n",
       "          [0, 0, 0],\n",
       "          ...,\n",
       "          [0, 0, 0],\n",
       "          [0, 0, 0],\n",
       "          [0, 0, 0]],\n",
       "  \n",
       "         [[0, 0, 0],\n",
       "          [0, 0, 0],\n",
       "          [0, 0, 0],\n",
       "          ...,\n",
       "          [0, 0, 0],\n",
       "          [0, 0, 0],\n",
       "          [0, 0, 0]],\n",
       "  \n",
       "         [[0, 0, 0],\n",
       "          [0, 0, 0],\n",
       "          [0, 0, 0],\n",
       "          ...,\n",
       "          [0, 0, 0],\n",
       "          [0, 0, 0],\n",
       "          [0, 0, 0]]], dtype=uint8),\n",
       "  1)]"
      ]
     },
     "execution_count": 12,
     "metadata": {},
     "output_type": "execute_result"
    }
   ],
   "source": [
    "list(data.take(1).as_numpy_iterator())"
   ]
  },
  {
   "cell_type": "code",
   "execution_count": 38,
   "id": "3dc72a22-e6db-40e3-b65c-14990eb9d3e0",
   "metadata": {},
   "outputs": [],
   "source": [
    "TRAIN_RATIO = 0.6\n",
    "TEST_RATIO = 0.2\n",
    "VAL_RATIO = 0.2\n",
    "\n",
    "dataset = tf.data.Dataset.range(10)\n",
    "DATA_SIZE = len(data)\n",
    "\n"
   ]
  },
  {
   "cell_type": "code",
   "execution_count": null,
   "id": "1b27cc00-2a6d-4560-b27a-ab8de28b900a",
   "metadata": {},
   "outputs": [],
   "source": []
  },
  {
   "cell_type": "code",
   "execution_count": 54,
   "id": "8db4a754-f59f-4cbd-93a3-8fd4ae5c453b",
   "metadata": {},
   "outputs": [],
   "source": [
    "def split_(dataset,TRAIN_RATIO,TEST_RATIO,VAL_RATIO):\n",
    "    DATASET_SIZE = len(dataset)\n",
    "    TRAIN_DATASET = dataset.take(int(TRAIN_RATIO*DATASET_SIZE))\n",
    "    TEST_DATASET1 = dataset.skip(int(TRAIN_RATIO*DATASET_SIZE))\n",
    "    TEST_DATASET = TEST_DATASET1.take(int(TEST_RATIO*DATASET_SIZE))\n",
    "    VAL_DATASET = TEST_DATASET1.skip(int(VAL_RATIO*DATASET_SIZE))\n",
    "    \n",
    "    return TRAIN_DATASET, TEST_DATASET, VAL_DATASET"
   ]
  },
  {
   "cell_type": "code",
   "execution_count": 55,
   "id": "fd7dc1a0-a0ef-4250-a2a8-a0ef80aab154",
   "metadata": {},
   "outputs": [],
   "source": [
    "train,test,valid = split_(data,TRAIN_RATIO,TEST_RATIO,VAL_RATIO)"
   ]
  },
  {
   "cell_type": "code",
   "execution_count": 57,
   "id": "a52074f9-84c1-4442-a86e-b98fc79c328b",
   "metadata": {},
   "outputs": [
    {
     "name": "stdout",
     "output_type": "stream",
     "text": [
      "16534 5511 5513\n"
     ]
    }
   ],
   "source": [
    "print(len(train),len(test),len(valid))"
   ]
  },
  {
   "cell_type": "code",
   "execution_count": 24,
   "id": "fc975c19-534a-456b-aa10-47586a0d396d",
   "metadata": {},
   "outputs": [],
   "source": [
    "model = tf.keras.Sequential([\n",
    "                            InputLayer(shape=(224,224,3)),\n",
    "                            Conv2D(filters=6,kernel_size=(5,5),strides=(1,1),activation='sigmoid'),\n",
    "                            MaxPool2D(pool_size=(3,3),strides=(1,1),padding='valid'),\n",
    "\n",
    "                            Conv2D(filters=16,kernel_size=(5,5),strides=(1,1),activation='sigmoid'),\n",
    "                            MaxPool2D(pool_size=(3,3),padding='valid'),\n",
    "\n",
    "                            layers.Dense(128,activation='sigmoid'),\n",
    "                            layers.Dense(128,activation='sigmoid'),\n",
    "                            layers.Dense(128,activation='sigmoid'),\n",
    "                            layers.Dense(2)\n",
    "])\n"
   ]
  },
  {
   "cell_type": "code",
   "execution_count": 44,
   "id": "d964538e-0f17-4b61-b629-ee7f0281f97b",
   "metadata": {},
   "outputs": [
    {
     "data": {
      "text/plain": [
       "0"
      ]
     },
     "execution_count": 44,
     "metadata": {},
     "output_type": "execute_result"
    }
   ],
   "source": [
    "len(valid)"
   ]
  },
  {
   "cell_type": "code",
   "execution_count": 36,
   "id": "471aac19-2a67-4087-952a-e7d7fe6c7473",
   "metadata": {},
   "outputs": [
    {
     "data": {
      "text/plain": [
       "[(array([[[0, 0, 0],\n",
       "          [0, 0, 0],\n",
       "          [0, 0, 0],\n",
       "          ...,\n",
       "          [0, 0, 0],\n",
       "          [0, 0, 0],\n",
       "          [0, 0, 0]],\n",
       "  \n",
       "         [[0, 0, 0],\n",
       "          [0, 0, 0],\n",
       "          [0, 0, 0],\n",
       "          ...,\n",
       "          [0, 0, 0],\n",
       "          [0, 0, 0],\n",
       "          [0, 0, 0]],\n",
       "  \n",
       "         [[0, 0, 0],\n",
       "          [0, 0, 0],\n",
       "          [0, 0, 0],\n",
       "          ...,\n",
       "          [0, 0, 0],\n",
       "          [0, 0, 0],\n",
       "          [0, 0, 0]],\n",
       "  \n",
       "         ...,\n",
       "  \n",
       "         [[0, 0, 0],\n",
       "          [0, 0, 0],\n",
       "          [0, 0, 0],\n",
       "          ...,\n",
       "          [0, 0, 0],\n",
       "          [0, 0, 0],\n",
       "          [0, 0, 0]],\n",
       "  \n",
       "         [[0, 0, 0],\n",
       "          [0, 0, 0],\n",
       "          [0, 0, 0],\n",
       "          ...,\n",
       "          [0, 0, 0],\n",
       "          [0, 0, 0],\n",
       "          [0, 0, 0]],\n",
       "  \n",
       "         [[0, 0, 0],\n",
       "          [0, 0, 0],\n",
       "          [0, 0, 0],\n",
       "          ...,\n",
       "          [0, 0, 0],\n",
       "          [0, 0, 0],\n",
       "          [0, 0, 0]]], dtype=uint8),\n",
       "  1)]"
      ]
     },
     "execution_count": 36,
     "metadata": {},
     "output_type": "execute_result"
    }
   ],
   "source": [
    "list(data.take(1).as_numpy_iterator())"
   ]
  },
  {
   "cell_type": "code",
   "execution_count": null,
   "id": "dcd7b21c-100d-4bc1-9c48-af382d42eb68",
   "metadata": {},
   "outputs": [],
   "source": []
  }
 ],
 "metadata": {
  "kernelspec": {
   "display_name": "Python 3 (ipykernel)",
   "language": "python",
   "name": "python3"
  },
  "language_info": {
   "codemirror_mode": {
    "name": "ipython",
    "version": 3
   },
   "file_extension": ".py",
   "mimetype": "text/x-python",
   "name": "python",
   "nbconvert_exporter": "python",
   "pygments_lexer": "ipython3",
   "version": "3.12.4"
  }
 },
 "nbformat": 4,
 "nbformat_minor": 5
}
